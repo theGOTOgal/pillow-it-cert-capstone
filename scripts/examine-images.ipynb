{
 "cells": [
  {
   "cell_type": "markdown",
   "metadata": {},
   "source": [
    "## Intro\n",
    "\n",
    "We are going to use pillow (Python Imaging Library/PIL fork) to correct some black and white icon images that don't have the specifications we need.  This is a toy project.  In broad strokes, we need to:\n",
    "\n",
    "-  Rotate the images to the correct orientation\n",
    "-  Resize them\n",
    "-  Convert them from tiff to jpeg format.  \n",
    "\n",
    "*(Note for the future:  A jpeg file type will require the images to be in 'L', 'RGB', or 'CMYK' modes.  More on this later.)*\n",
    "\n",
    "I'm starting with no knowledge of the pillow imaging package and very little expertise in image files.  \n",
    "\n",
    "Obviously, the first things I tried were the simplest methods to execute the above.  Pillow is a big package and has functions to rotate, resize, and convert images.  However, a lot of the images looked like hot garbage after doing this!\n",
    "\n",
    "To find out why, let's get started by poking around our image files and gathering some detailed info."
   ]
  },
  {
   "cell_type": "markdown",
   "metadata": {},
   "source": [
    "## Exploration"
   ]
  },
  {
   "cell_type": "code",
   "execution_count": 42,
   "metadata": {},
   "outputs": [],
   "source": [
    "from PIL import Image, ImageOps, ImageChops\n",
    "from os import path\n",
    "from glob import glob"
   ]
  },
  {
   "cell_type": "code",
   "execution_count": 43,
   "metadata": {},
   "outputs": [],
   "source": [
    "def has_bad_extrema(img):\n",
    "    #Compare image pixel extrema to their full mode bit depth\n",
    "    #flag if pixels use < half of the full depth/range avail\n",
    "\n",
    "    #Note: assumes images are 8-bit or binary, which my test images are\n",
    "    \n",
    "    mode = img.mode\n",
    "    extra = img.getextrema()\n",
    "\n",
    "    full = 255\n",
    "    if len(mode) > 1:\n",
    "        #multiband image has extrema for each band\n",
    "        depth = 0\n",
    "        for i in range(len(extra)):\n",
    "            #get the max range out of all bands\n",
    "            depth = max(extra[i][1] - extra[i][0], depth)\n",
    "    else:\n",
    "        #single band image\n",
    "        depth = extra[1] - extra[0]\n",
    "        if mode == '1':\n",
    "            #1-bit mode, range of 0-1\n",
    "            full = 1\n",
    "    if (depth < 0.5*full) or (depth > full):\n",
    "        #images use less than half or more than max bit depth\n",
    "        return True\n",
    "    return False"
   ]
  },
  {
   "cell_type": "code",
   "execution_count": 44,
   "metadata": {},
   "outputs": [
    {
     "name": "stdout",
     "output_type": "stream",
     "text": [
      "Image may have problematic contrast levels: ic_local_convenience_store_white_48dp\n",
      "Image mode: 1\n",
      "Image extrema: (0, 255)\n",
      "Image histogram: [19840, 0, 0, 0, 0, 0, 0, 0, 0, 0, 0, 0, 0, 0, 0, 0, 0, 0, 0, 0, 0, 0, 0, 0, 0, 0, 0, 0, 0, 0, 0, 0, 0, 0, 0, 0, 0, 0, 0, 0, 0, 0, 0, 0, 0, 0, 0, 0, 0, 0, 0, 0, 0, 0, 0, 0, 0, 0, 0, 0, 0, 0, 0, 0, 0, 0, 0, 0, 0, 0, 0, 0, 0, 0, 0, 0, 0, 0, 0, 0, 0, 0, 0, 0, 0, 0, 0, 0, 0, 0, 0, 0, 0, 0, 0, 0, 0, 0, 0, 0, 0, 0, 0, 0, 0, 0, 0, 0, 0, 0, 0, 0, 0, 0, 0, 0, 0, 0, 0, 0, 0, 0, 0, 0, 0, 0, 0, 0, 0, 0, 0, 0, 0, 0, 0, 0, 0, 0, 0, 0, 0, 0, 0, 0, 0, 0, 0, 0, 0, 0, 0, 0, 0, 0, 0, 0, 0, 0, 0, 0, 0, 0, 0, 0, 0, 0, 0, 0, 0, 0, 0, 0, 0, 0, 0, 0, 0, 0, 0, 0, 0, 0, 0, 0, 0, 0, 0, 0, 0, 0, 0, 0, 0, 0, 0, 0, 0, 0, 0, 0, 0, 0, 0, 0, 0, 0, 0, 0, 0, 0, 0, 0, 0, 0, 0, 0, 0, 0, 0, 0, 0, 0, 0, 0, 0, 0, 0, 0, 0, 0, 0, 0, 0, 0, 0, 0, 0, 0, 0, 0, 0, 0, 0, 0, 0, 0, 0, 0, 0, 0, 0, 0, 0, 0, 0, 17024]\n",
      "Other image info: {'compression': 'raw', 'dpi': (1, 1), 'resolution': (1, 1)}\n",
      "\n",
      "Image may have problematic contrast levels: ic_local_movies_black_48dp\n",
      "Image mode: P\n",
      "Image extrema: (0, 1)\n",
      "Image histogram: [20992, 15872, 0, 0, 0, 0, 0, 0, 0, 0, 0, 0, 0, 0, 0, 0, 0, 0, 0, 0, 0, 0, 0, 0, 0, 0, 0, 0, 0, 0, 0, 0, 0, 0, 0, 0, 0, 0, 0, 0, 0, 0, 0, 0, 0, 0, 0, 0, 0, 0, 0, 0, 0, 0, 0, 0, 0, 0, 0, 0, 0, 0, 0, 0, 0, 0, 0, 0, 0, 0, 0, 0, 0, 0, 0, 0, 0, 0, 0, 0, 0, 0, 0, 0, 0, 0, 0, 0, 0, 0, 0, 0, 0, 0, 0, 0, 0, 0, 0, 0, 0, 0, 0, 0, 0, 0, 0, 0, 0, 0, 0, 0, 0, 0, 0, 0, 0, 0, 0, 0, 0, 0, 0, 0, 0, 0, 0, 0, 0, 0, 0, 0, 0, 0, 0, 0, 0, 0, 0, 0, 0, 0, 0, 0, 0, 0, 0, 0, 0, 0, 0, 0, 0, 0, 0, 0, 0, 0, 0, 0, 0, 0, 0, 0, 0, 0, 0, 0, 0, 0, 0, 0, 0, 0, 0, 0, 0, 0, 0, 0, 0, 0, 0, 0, 0, 0, 0, 0, 0, 0, 0, 0, 0, 0, 0, 0, 0, 0, 0, 0, 0, 0, 0, 0, 0, 0, 0, 0, 0, 0, 0, 0, 0, 0, 0, 0, 0, 0, 0, 0, 0, 0, 0, 0, 0, 0, 0, 0, 0, 0, 0, 0, 0, 0, 0, 0, 0, 0, 0, 0, 0, 0, 0, 0, 0, 0, 0, 0, 0, 0, 0, 0, 0, 0, 0, 0]\n",
      "Other image info: {'compression': 'raw', 'dpi': (1, 1), 'resolution': (1, 1)}\n",
      "\n",
      "Image may have problematic contrast levels: ic_local_movies_white_48dp\n",
      "Image mode: 1\n",
      "Image extrema: (0, 255)\n",
      "Image histogram: [20992, 0, 0, 0, 0, 0, 0, 0, 0, 0, 0, 0, 0, 0, 0, 0, 0, 0, 0, 0, 0, 0, 0, 0, 0, 0, 0, 0, 0, 0, 0, 0, 0, 0, 0, 0, 0, 0, 0, 0, 0, 0, 0, 0, 0, 0, 0, 0, 0, 0, 0, 0, 0, 0, 0, 0, 0, 0, 0, 0, 0, 0, 0, 0, 0, 0, 0, 0, 0, 0, 0, 0, 0, 0, 0, 0, 0, 0, 0, 0, 0, 0, 0, 0, 0, 0, 0, 0, 0, 0, 0, 0, 0, 0, 0, 0, 0, 0, 0, 0, 0, 0, 0, 0, 0, 0, 0, 0, 0, 0, 0, 0, 0, 0, 0, 0, 0, 0, 0, 0, 0, 0, 0, 0, 0, 0, 0, 0, 0, 0, 0, 0, 0, 0, 0, 0, 0, 0, 0, 0, 0, 0, 0, 0, 0, 0, 0, 0, 0, 0, 0, 0, 0, 0, 0, 0, 0, 0, 0, 0, 0, 0, 0, 0, 0, 0, 0, 0, 0, 0, 0, 0, 0, 0, 0, 0, 0, 0, 0, 0, 0, 0, 0, 0, 0, 0, 0, 0, 0, 0, 0, 0, 0, 0, 0, 0, 0, 0, 0, 0, 0, 0, 0, 0, 0, 0, 0, 0, 0, 0, 0, 0, 0, 0, 0, 0, 0, 0, 0, 0, 0, 0, 0, 0, 0, 0, 0, 0, 0, 0, 0, 0, 0, 0, 0, 0, 0, 0, 0, 0, 0, 0, 0, 0, 0, 0, 0, 0, 0, 0, 0, 0, 0, 0, 0, 15872]\n",
      "Other image info: {'compression': 'raw', 'dpi': (1, 1), 'resolution': (1, 1)}\n",
      "\n",
      "Image may have problematic contrast levels: ic_local_convenience_store_black_48dp\n",
      "Image mode: P\n",
      "Image extrema: (0, 1)\n",
      "Image histogram: [19840, 17024, 0, 0, 0, 0, 0, 0, 0, 0, 0, 0, 0, 0, 0, 0, 0, 0, 0, 0, 0, 0, 0, 0, 0, 0, 0, 0, 0, 0, 0, 0, 0, 0, 0, 0, 0, 0, 0, 0, 0, 0, 0, 0, 0, 0, 0, 0, 0, 0, 0, 0, 0, 0, 0, 0, 0, 0, 0, 0, 0, 0, 0, 0, 0, 0, 0, 0, 0, 0, 0, 0, 0, 0, 0, 0, 0, 0, 0, 0, 0, 0, 0, 0, 0, 0, 0, 0, 0, 0, 0, 0, 0, 0, 0, 0, 0, 0, 0, 0, 0, 0, 0, 0, 0, 0, 0, 0, 0, 0, 0, 0, 0, 0, 0, 0, 0, 0, 0, 0, 0, 0, 0, 0, 0, 0, 0, 0, 0, 0, 0, 0, 0, 0, 0, 0, 0, 0, 0, 0, 0, 0, 0, 0, 0, 0, 0, 0, 0, 0, 0, 0, 0, 0, 0, 0, 0, 0, 0, 0, 0, 0, 0, 0, 0, 0, 0, 0, 0, 0, 0, 0, 0, 0, 0, 0, 0, 0, 0, 0, 0, 0, 0, 0, 0, 0, 0, 0, 0, 0, 0, 0, 0, 0, 0, 0, 0, 0, 0, 0, 0, 0, 0, 0, 0, 0, 0, 0, 0, 0, 0, 0, 0, 0, 0, 0, 0, 0, 0, 0, 0, 0, 0, 0, 0, 0, 0, 0, 0, 0, 0, 0, 0, 0, 0, 0, 0, 0, 0, 0, 0, 0, 0, 0, 0, 0, 0, 0, 0, 0, 0, 0, 0, 0, 0, 0]\n",
      "Other image info: {'compression': 'raw', 'dpi': (1, 1), 'resolution': (1, 1)}\n",
      "\n"
     ]
    }
   ],
   "source": [
    "dir = '../images/'\n",
    "pattern = 'ic*dp'\n",
    "image_list = [path.abspath(x) for x in glob(dir + pattern)]\n",
    "img_types = {}\n",
    "sus_imgs = []\n",
    "\n",
    "#Poke around in these image files and see what's what\n",
    "for file in image_list:\n",
    "    img = Image.open(file)\n",
    "    mode = img.mode\n",
    "    img_types.update({mode : img_types.get(mode, 0) + 1})\n",
    "    if has_bad_extrema(img):\n",
    "        sus_imgs.append(path.basename(file))\n",
    "        print(f'Image may have problematic contrast levels: {path.basename(file)}')\n",
    "        print(f'Image mode: {img.mode}')\n",
    "        print(f'Image extrema: {img.getextrema()}')\n",
    "        print(f'Image histogram: {img.histogram()}')\n",
    "        print(f'Other image info: {img.info}\\n')"
   ]
  },
  {
   "cell_type": "code",
   "execution_count": 45,
   "metadata": {},
   "outputs": [
    {
     "name": "stdout",
     "output_type": "stream",
     "text": [
      "Image files to inspect:\n",
      "ic_local_convenience_store_black_48dp\n",
      "ic_local_convenience_store_white_48dp\n",
      "ic_local_movies_black_48dp\n",
      "ic_local_movies_white_48dp\n",
      "\n",
      "Overall statistics of our image modes: {'LA': 96, '1': 2, 'P': 2}\n"
     ]
    }
   ],
   "source": [
    "#Summary of info\n",
    "sus_imgs.sort()\n",
    "print (f'Image files to inspect:')\n",
    "print (\"\\n\".join(sus_imgs))\n",
    "print(f'\\nOverall statistics of our image modes: {img_types}')"
   ]
  },
  {
   "attachments": {
    "image-2.png": {
     "image/png": "[encoded data removed]"
    },
    "image.png": {
     "image/png": "[encoded data removed]"
    }
   },
   "cell_type": "markdown",
   "metadata": {},
   "source": [
    "Our code has found 4 images that might be problematic in terms of their pixel values and their mode.  \n",
    "\n",
    "The image mode defines the type (number of bits) and depth (range/extrema of pixel values, sometimes given in bits) for pixels in the image.  This is independent of the image file format, which may or may not be compatible with certain image modes.\n",
    "\n",
    "Two images are black icons in palette ('P') mode, which is an 8-bit mode, however their pixel values are binary with a range of only [0, 1].   To a layman like me they look like they are meant to be 1-bit/binary mode images but aren't for some reason.  Or, they should have a palette associated with them that converts 0 and 1 to 0 (black) and 255 (white).  When displayed, they don't look great:\n",
    "\n",
    "![image.png](attachment:image.png)  ![image-2.png](attachment:image-2.png)\n",
    "\n",
    "\n",
    "Two images are white icons in 1-bit ('1') mode, however their pixel values are binary (good) with a range of [0, 255] (bad).  In other words, they look like they are binary images but somehow their pixel values are out of the allowed range of [0, 1] for that mode. \n",
    "\n",
    "The white icons seem to display ok, but we should make sure they still look ok after our conversion process:"
   ]
  },
  {
   "cell_type": "markdown",
   "metadata": {},
   "source": [
    "### Test Conversion for Odd 1-Bit Images"
   ]
  },
  {
   "cell_type": "code",
   "execution_count": null,
   "metadata": {},
   "outputs": [
    {
     "name": "stdout",
     "output_type": "stream",
     "text": [
      "Image mode: L\n",
      "Image extrema: (0, 255)\n"
     ]
    },
    {
     "name": "stdout",
     "output_type": "stream",
     "text": [
      "Opening in existing browser session.\n"
     ]
    },
    {
     "name": "stderr",
     "output_type": "stream",
     "text": [
      "/snap/core20/current/lib/x86_64-linux-gnu/libstdc++.so.6: version `GLIBCXX_3.4.29' not found (required by /lib/x86_64-linux-gnu/libproxy.so.1)\n",
      "Failed to load module: /home/lilli/snap/code/common/.cache/gio-modules/libgiolibproxy.so\n"
     ]
    }
   ],
   "source": [
    "#test conversion on a '1' mode images\n",
    "#displays the result!\n",
    "file = '../images/ic_local_movies_white_48dp'\n",
    "tmp_file = './tmp_movies_white'\n",
    "img = Image.open(file).convert('L').rotate(270).save(tmp_file, 'jpeg')\n",
    "img = Image.open(tmp_file)\n",
    "print(f'Image mode: {img.mode}')\n",
    "print(f'Image extrema: {img.getextrema()}')\n",
    "img.show()"
   ]
  },
  {
   "cell_type": "markdown",
   "metadata": {},
   "source": [
    "Good news.  It looks like our 'suspicious' white icons in 1-bit mode will convert just fine."
   ]
  },
  {
   "cell_type": "markdown",
   "metadata": {},
   "source": [
    "### Discussion of Odd 'P' Mode Images\n",
    "\n",
    "Let's look more at the two black icons in 'P' mode with pixel values from [0, 1].\n",
    "\n",
    "If they were in 1-bit mode, our image viewer might know what to make of them.  As is, they appear solid black even though there should be more information there.\n",
    "\n",
    "Looking at their details in Image Magick, they are being recognized as 8-bit, palette images, but the histogram is different.  Image Magick's histogram reports a uniformly flat (solid black) image.  This suggests to me that Image Magick does some conversion on the image, probably/hopefully based on the defined palette for the image.\n",
    "\n",
    "Quoting pillow documentation, 'The palette mode (P) uses a color palette to define the actual color for each pixel.'  So, it seems to me that this image would be displaying fine if the palette was mapping 0 to black and 1 to white, or vise versa, but it isn't.\n",
    "\n",
    "*I say this all with the benefit of hindsight.  I took some time to synthesize this information.  I thought it was more likely there was a file mode/type/unknown conflict that was creating an issue.*"
   ]
  },
  {
   "cell_type": "markdown",
   "metadata": {},
   "source": [
    "#### A Digression\n",
    "\n",
    "What follows is a code snippet to preserve some things I tried that didn't work. \n",
    "\n",
    "This is a [useful StackOverflow answer](https://stackoverflow.com/questions/52307290/what-is-the-difference-between-images-in-p-and-l-mode-in-pil) about images and pillow.  There is a lot I could try.  One simple thing to put here as an example -- they recommend converting the image in the same step as opening the file.  \n",
    "\n",
    "As you can see from running the same conversion steps as for the white icon images above (in the code section below), no dice.  I also tried several file/mode combinations, including leaving the conversion mode to be determined by pillow.  What I found was that unless I convert from the existing 'P' mode to 'P' mode, which unsurprisingly had no benefit, the image gets flattened to a pixel range of [0, 0] (just as in Image Magick).  Information destroyed.\n",
    "\n",
    "Take a look:"
   ]
  },
  {
   "cell_type": "code",
   "execution_count": null,
   "metadata": {},
   "outputs": [
    {
     "name": "stdout",
     "output_type": "stream",
     "text": [
      "BEFORE converting to L mode\n",
      "Image mode: P\n",
      "Image extrema: (0, 1)\n",
      "\n",
      "AFTER\n",
      "Image mode: L\n",
      "Image extrema: (0, 0)\n"
     ]
    },
    {
     "name": "stdout",
     "output_type": "stream",
     "text": [
      "Opening in existing browser session.\n"
     ]
    },
    {
     "name": "stderr",
     "output_type": "stream",
     "text": [
      "/snap/core20/current/lib/x86_64-linux-gnu/libstdc++.so.6: version `GLIBCXX_3.4.29' not found (required by /lib/x86_64-linux-gnu/libproxy.so.1)\n",
      "Failed to load module: /home/lilli/snap/code/common/.cache/gio-modules/libgiolibproxy.so\n",
      "[24809:24809:0100/000000.696772:ERROR:zygote_linux.cc(672)] write: Broken pipe (32)\n"
     ]
    }
   ],
   "source": [
    "#test conversion on a flagged black icon image\n",
    "#displays the result!\n",
    "file = '../images/ic_local_movies_black_48dp'\n",
    "tmp_file = './tmp_movies_black'\n",
    "img = Image.open(file)\n",
    "print('BEFORE converting to L mode')\n",
    "print(f'Image mode: {img.mode}')\n",
    "print(f'Image extrema: {img.getextrema()}\\n')\n",
    "\n",
    "img = Image.open(file).convert(\"L\").rotate(270).save(tmp_file, 'jpeg')\n",
    "\n",
    "img = Image.open(tmp_file)\n",
    "print('AFTER')\n",
    "print(f'Image mode: {img.mode}')\n",
    "print(f'Image extrema: {img.getextrema()}')\n",
    "img.show()"
   ]
  },
  {
   "cell_type": "markdown",
   "metadata": {},
   "source": [
    "I did quite a bit of online research and trial and error working with pillow before I thought to track it in a Jupyter notebook.\n",
    "\n",
    "This included playing around with trying to define a palette that would map these images correctly, but it didn't fix my image issues.  (I wasn't doing it right).\n",
    "\n",
    "This is getting even deeper into the technical details of image data and manipulation, which could be time consuming -- this project shouldn't need me to reinvent the wheel and figuring out how to correctly adjust image palettes seemed like reinventing the wheel for the level of understanding I had at the time.\n",
    "\n",
    "*An aside:*\n",
    "\n",
    "*I actually did go back and get palette fiddling working.  You can see the results in my addendum at the end.  However, I solved this problem another way first, so I'm going to show that next.*"
   ]
  },
  {
   "cell_type": "markdown",
   "metadata": {},
   "source": [
    "### Test Conversion of Odd Palette Images\n",
    "\n",
    "Fortunately, I can think of alternative solutions:\n",
    "-  Toss the black icon images.  Use the white icons, which should be identical in form, and reverse the colors.\n",
    "-  Mathematically scale the pixel values to use the mode's full pixel range.  This can be done without using a palette.\n",
    "\n",
    "Here's some code to do the latter:"
   ]
  },
  {
   "cell_type": "code",
   "execution_count": 63,
   "metadata": {},
   "outputs": [
    {
     "name": "stderr",
     "output_type": "stream",
     "text": [
      "/snap/core20/current/lib/x86_64-linux-gnu/libstdc++.so.6: version `GLIBCXX_3.4.29' not found (required by /lib/x86_64-linux-gnu/libproxy.so.1)\n",
      "Failed to load module: /home/lilli/snap/code/common/.cache/gio-modules/libgiolibproxy.so\n",
      "[22065:22065:0100/000000.288754:ERROR:zygote_linux.cc(672)] write: Broken pipe (32)\n"
     ]
    },
    {
     "name": "stdout",
     "output_type": "stream",
     "text": [
      "Opening in existing browser session.\n"
     ]
    }
   ],
   "source": [
    "#test conversion on a flagged black icon image\n",
    "#displays the result!\n",
    "\n",
    "def scale_palpixels(myImage, dmin, dmax):\n",
    "    #rescale odd 'P' mode images\n",
    "    #the P mode images in this data set have a pixel range [0, 1]\n",
    "    data = myImage.getdata()\n",
    "    myImage.putdata(data, scale=-255, offset=255)\n",
    "    return myImage\n",
    "\n",
    "file = '../images/ic_local_movies_black_48dp'\n",
    "tmp_file = './tmp_movies_black'\n",
    "\n",
    "img = Image.open(file)\n",
    "depth = img.getextrema()\n",
    "img = scale_palpixels(img, depth[0], depth[1])\n",
    "img.convert(\"L\").rotate(270).save(tmp_file, 'jpeg')\n",
    "img = Image.open(tmp_file)\n",
    "img.show()\n",
    "\n"
   ]
  },
  {
   "cell_type": "code",
   "execution_count": null,
   "metadata": {},
   "outputs": [],
   "source": []
  },
  {
   "cell_type": "markdown",
   "metadata": {},
   "source": [
    "Looks good! \n",
    "\n",
    " We've scaled the pixels so they now span the full mode depth and the image looks like a nice and clear icon now.  It happens that scaling the values by a factor of 255 resulted in a white icon on a black background instead of a black icon, so I had to reverse the colors (map 0 --> 255 and 1 --> 0)."
   ]
  },
  {
   "cell_type": "markdown",
   "metadata": {},
   "source": [
    "### Discussion of 'LA' Mode Images\n",
    "\n",
    "Now, let's finally take a look at the bulk of our images.\n"
   ]
  },
  {
   "cell_type": "code",
   "execution_count": 30,
   "metadata": {},
   "outputs": [
    {
     "name": "stdout",
     "output_type": "stream",
     "text": [
      "Image mode statistics:\n",
      "{'LA': 96, '1': 2, 'P': 2}\n"
     ]
    }
   ],
   "source": [
    "print(\"Image mode statistics:\")\n",
    "print(img_types)"
   ]
  },
  {
   "cell_type": "markdown",
   "metadata": {},
   "source": [
    "\n",
    "Most of our tiff images are in 'LA' mode.  This indicates an 8-bit greyscale 'Luminance' image with a additional alpha layer.  The alpha layer/band is a transparency mask.\n",
    "\n",
    "(Remember that note at the beginning on jpeg compatibility?  Our options are 'RGB', 'L', and 'CMYK'.  Not 'LA'.)  \n",
    "\n",
    "Pillow uses 'A' in the mode designation to indicate an alpha mask/transparency layer.  Sometimes images have a single, designated pixel value that indicates transparency.  This is indicated by the 'transparency' attribute in img.info for '1', 'L', 'I' or 'P' modes type images in pillow.  (Don't worry, we checked our image info on our rogue 'P' and '1' images above and they didn't have a transparency attribute.)\n",
    "\n",
    "At minimum we'll have to convert our image from 'LA' to 'L' mode to be able to save them in jpeg format, but it's not clear yet how/if we'll need to adjust for the existing alpha channel in our images.  \n",
    "\n",
    "Always try the fast/dumb thing that might work first!  As it turns out, if we attempt a straightforward conversion from 'LA' to 'L' mode, the output is less than desirable.  \n",
    "\n",
    "Presuming that all our 'LA' images are similarly constructed, I've picked one set of black and white icons to analyze:"
   ]
  },
  {
   "cell_type": "code",
   "execution_count": 89,
   "metadata": {},
   "outputs": [],
   "source": [
    "#test conversion from 'LA' to 'L' mode\n",
    "#uncomment the .show() lines to see a bigger version of an image\n",
    "#if showing mult images they can be displayed out of order\n",
    "file_w = '../images/ic_directions_bike_white_48dp'\n",
    "file_b = '../images/ic_directions_bike_black_48dp'\n",
    "tmp_w = './tmp_bike_white'\n",
    "tmp_b = './tmp_bike_black'\n",
    "\n",
    "#white icon\n",
    "#img = Image.open(file_w).show()\n",
    "img = Image.open(file_w).convert('L').save(tmp_w, 'jpeg')\n",
    "#img = Image.open(tmp_w).show()\n",
    "\n",
    "#black icon\n",
    "#img = Image.open(file_b).show()\n",
    "img = Image.open(file_b).convert('L').save(tmp_b, 'jpeg')\n",
    "#img = Image.open(tmp_b).show()"
   ]
  },
  {
   "attachments": {
    "image-2.png": {
     "image/png": "[encoded data removed]"
    },
    "image.png": {
     "image/png": "[encoded data removed]"
    }
   },
   "cell_type": "markdown",
   "metadata": {},
   "source": [
    "\n",
    "\n",
    "Here's our before (left) and after (right) conversion to 'L' mode in the code block above:\n",
    "\n",
    "![image.png](attachment:image.png)  ![image-2.png](attachment:image-2.png)\n",
    "\n",
    "That transparency layer was doing some heavy lifting.  Let's poke around some more.\n"
   ]
  },
  {
   "cell_type": "markdown",
   "metadata": {},
   "source": [
    "\n",
    "Histogram data in pillow can be misleading because it often needs to be truncated for the multiple bands.  I'm going to split the bands and look at them individually and see if that gives me some insight.\n",
    "\n",
    "#### Converting the Black 'LA' Images"
   ]
  },
  {
   "cell_type": "code",
   "execution_count": 90,
   "metadata": {},
   "outputs": [
    {
     "name": "stdout",
     "output_type": "stream",
     "text": [
      "BLACK ICON\n",
      "Image extrema: ((0, 0), (0, 255))\n",
      "L-band histogram: [36864, 0, 0, 0, 0, 0, 0, 0, 0, 0, 0, 0, 0, 0, 0, 0, 0, 0, 0, 0, 0, 0, 0, 0, 0, 0, 0, 0, 0, 0, 0, 0, 0, 0, 0, 0, 0, 0, 0, 0, 0, 0, 0, 0, 0, 0, 0, 0, 0, 0, 0, 0, 0, 0, 0, 0, 0, 0, 0, 0, 0, 0, 0, 0, 0, 0, 0, 0, 0, 0, 0, 0, 0, 0, 0, 0, 0, 0, 0, 0, 0, 0, 0, 0, 0, 0, 0, 0, 0, 0, 0, 0, 0, 0, 0, 0, 0, 0, 0, 0, 0, 0, 0, 0, 0, 0, 0, 0, 0, 0, 0, 0, 0, 0, 0, 0, 0, 0, 0, 0, 0, 0, 0, 0, 0, 0, 0, 0, 0, 0, 0, 0, 0, 0, 0, 0, 0, 0, 0, 0, 0, 0, 0, 0, 0, 0, 0, 0, 0, 0, 0, 0, 0, 0, 0, 0, 0, 0, 0, 0, 0, 0, 0, 0, 0, 0, 0, 0, 0, 0, 0, 0, 0, 0, 0, 0, 0, 0, 0, 0, 0, 0, 0, 0, 0, 0, 0, 0, 0, 0, 0, 0, 0, 0, 0, 0, 0, 0, 0, 0, 0, 0, 0, 0, 0, 0, 0, 0, 0, 0, 0, 0, 0, 0, 0, 0, 0, 0, 0, 0, 0, 0, 0, 0, 0, 0, 0, 0, 0, 0, 0, 0, 0, 0, 0, 0, 0, 0, 0, 0, 0, 0, 0, 0, 0, 0, 0, 0, 0, 0, 0, 0, 0, 0, 0, 0]\n",
      "Alpha-band histogram: [25078, 59, 36, 39, 103, 35, 32, 29, 24, 27, 33, 23, 10, 8, 9, 16, 30, 28, 57, 55, 43, 32, 24, 11, 37, 52, 8, 6, 23, 13, 31, 22, 15, 18, 6, 11, 23, 6, 18, 21, 42, 21, 17, 20, 27, 33, 11, 10, 12, 18, 22, 38, 103, 8, 4, 11, 17, 25, 8, 2, 12, 7, 2, 8, 19, 27, 10, 10, 10, 7, 19, 17, 16, 12, 20, 4, 17, 12, 19, 14, 12, 18, 6, 18, 20, 7, 12, 7, 9, 3, 3, 14, 16, 7, 17, 11, 8, 13, 13, 19, 23, 5, 13, 4, 4, 3, 1, 3, 1, 2, 1, 11, 16, 6, 11, 4, 5, 0, 8, 12, 8, 13, 6, 5, 6, 7, 1, 14, 10, 17, 3, 12, 8, 15, 4, 19, 9, 7, 21, 10, 19, 13, 28, 12, 2, 4, 4, 0, 8, 11, 7, 6, 6, 6, 12, 12, 11, 16, 20, 23, 15, 6, 15, 9, 30, 13, 21, 16, 20, 22, 9, 5, 3, 6, 2, 2, 9, 5, 11, 9, 6, 5, 2, 15, 18, 4, 3, 6, 15, 13, 31, 19, 22, 13, 13, 9, 15, 21, 9, 26, 16, 23, 21, 116, 41, 27, 15, 27, 21, 3, 23, 8, 9, 6, 32, 11, 21, 15, 8, 21, 19, 20, 18, 13, 33, 32, 27, 57, 40, 39, 29, 22, 18, 30, 13, 5, 12, 10, 7, 39, 19, 22, 51, 62, 20, 25, 21, 33, 47, 77, 57, 34, 65, 65, 111, 7072]\n"
     ]
    }
   ],
   "source": [
    "#Looking at the black icon first\n",
    "#I will sometimes redefine files in a new code block\n",
    "#'unnecessarily', for clarity purposes\n",
    "file_b = '../images/ic_directions_bike_black_48dp'\n",
    "\n",
    "img = Image.open(file_b)\n",
    "L, alpha = img.split()\n",
    "print('BLACK ICON')\n",
    "print(f'Image extrema: {img.getextrema()}')\n",
    "print(f'L-band histogram: {L.histogram()}')\n",
    "print(f'Alpha-band histogram: {alpha.histogram()}')\n",
    "#L.show()\n",
    "#alpha.show()"
   ]
  },
  {
   "cell_type": "markdown",
   "metadata": {},
   "source": [
    "Interesting.\n",
    "\n",
    "Looking at the black icon, the L-band for this image is a flat (solid black).  The alpha layer is providing all of the detail.\n"
   ]
  },
  {
   "cell_type": "markdown",
   "metadata": {},
   "source": [
    "##### Transparency and Alpha Composites\n",
    "Alpha layers/masks control or describe the transparency/opacity of the color bands of the image.  The, say, RGB components give the color of the pixel, without any reference to opacity.  When combined with an alpha layer, a '0' value in the alpha layer means that the color is fully transparent/invisible.  A '1', on a normalized scale, or '255' in an 8-bit image, indicates that the color bands are fully opaque.\n",
    "\n",
    "We can confirm we have this right by looking at a few pixel values.  Our image is fully transparent at the edges and if we look at the pixel values for the coordinates (0, 0) in our image we get:\n"
   ]
  },
  {
   "cell_type": "code",
   "execution_count": 91,
   "metadata": {},
   "outputs": [
    {
     "name": "stdout",
     "output_type": "stream",
     "text": [
      "(0, 0)\n"
     ]
    }
   ],
   "source": [
    "file_b = '../images/ic_directions_bike_black_48dp'\n",
    "img = Image.open(file_b)\n",
    "print(img.getpixel((0, 0)))"
   ]
  },
  {
   "cell_type": "markdown",
   "metadata": {},
   "source": [
    "L band = 0 (black)\n",
    "\n",
    "A band = 0 (make this color fully transparent)"
   ]
  },
  {
   "cell_type": "markdown",
   "metadata": {},
   "source": [
    "\n",
    " Our alpha layer makes the flat black 'L' layer fully opaque where the bike is, partially transparent on the boundaries of the bike (creating a smoothed edge appearance), and fully transparent elsewhere.  This creates the effect of a black bike on an fully transparent or invisible background.\n",
    "\n",
    " Our final image won't be able to support any transparency, so we need to convert the 'invisible' background to a white one for our black icon.  I first did this using the *alpha_composite()* method.\n",
    " \n",
    "\n",
    " **alpha_composite(im1, im2)** - alpha composite im2 over im1.  Must be in RGBA mode.  In other words, paste im2 over im1, interpolating between them with the alpha layer.  \n",
    " \n",
    " In this case, we want im2 to be our original image and im1 to be our new background color.  Since we have a black icon, we want to composite it with a white background.  An alpha composite is an image manipulation term, with a [pretty good wikipedia page](https://en.wikipedia.org/wiki/Alpha_compositing).  \n",
    " \n",
    " If I understand correctly, this alpha_composite method will do the same linear interpolation between our white background and black image, using the alpha layer in our image as the transparency mask between the two.  The math is similar to:\n",
    "\n",
    " out = image1 * (1.0 - alpha) + image2 * alpha\n",
    "\n",
    "where, in our case, alpha varies by pixel, and where I'm being sloppy about indicating which bands are included and what they look like in image1 and image2.\n",
    "\n",
    "There is also a *composite()* method in pillow, where two images are blended using a transparency mask.  The way I'll be doing things, I think both of these methods should give the same results.  Let's try them out."
   ]
  },
  {
   "cell_type": "code",
   "execution_count": 92,
   "metadata": {},
   "outputs": [
    {
     "name": "stderr",
     "output_type": "stream",
     "text": [
      "/snap/core20/current/lib/x86_64-linux-gnu/libstdc++.so.6: version `GLIBCXX_3.4.29' not found (required by /lib/x86_64-linux-gnu/libproxy.so.1)\n",
      "Failed to load module: /home/lilli/snap/code/common/.cache/gio-modules/libgiolibproxy.so\n",
      "/snap/core20/current/lib/x86_64-linux-gnu/libstdc++.so.6: version `GLIBCXX_3.4.29' not found (required by /lib/x86_64-linux-gnu/libproxy.so.1)\n",
      "Failed to load module: /home/lilli/snap/code/common/.cache/gio-modules/libgiolibproxy.so\n"
     ]
    },
    {
     "name": "stdout",
     "output_type": "stream",
     "text": [
      "Opening in existing browser session.\n",
      "Opening in existing browser session.\n"
     ]
    }
   ],
   "source": [
    "#try alpha comp and comp methods on 'LA' image\n",
    "#shows the result!\n",
    "file_b = '../images/ic_directions_bike_black_48dp'\n",
    "file_bac = './tmp_bike_bac'\n",
    "file_bc = './tmp_bike_bc'\n",
    "\n",
    "img = Image.open(file_b).convert('RGBA')\n",
    "white_mask = Image.new(\"RGBA\", img.size, (255,255,255))\n",
    "\n",
    "#make alpha_composite\n",
    "Image.alpha_composite(white_mask, img).save(file_bac, 'tiff')\n",
    "\n",
    "#make composite\n",
    "img = Image.open(file_b) #leaving in 'LA' mode\n",
    "Image.composite(img.getchannel('L'), white_mask, img.getchannel('A')).save(file_bc, 'tiff')\n",
    "\n",
    "img = Image.open(file_bac).show()\n",
    "img = Image.open(file_bc).show()"
   ]
  },
  {
   "cell_type": "markdown",
   "metadata": {},
   "source": [
    "These look good. "
   ]
  },
  {
   "cell_type": "code",
   "execution_count": 93,
   "metadata": {},
   "outputs": [
    {
     "name": "stdout",
     "output_type": "stream",
     "text": [
      "First few values in histogram for difference between the composite images:\n",
      "[36864, 0, 0, 0, 0, 0, 0, 0, 0, 0]\n"
     ]
    }
   ],
   "source": [
    "#compare alpha_composite and composite results\n",
    "#difference() will create an image of the abs val of their pixel diff\n",
    "img_bac = Image.open(file_bac)\n",
    "img_bc = Image.open(file_bc)\n",
    "img_cdiff = ImageChops.difference(img_bac, img_bc)\n",
    "print(f'First few values in histogram for difference between the composite images:\\n{img_cdiff.histogram()[0:10]}')\n",
    "img_cdiff.save('./tmp_bike_cdiff', 'tiff')"
   ]
  },
  {
   "cell_type": "markdown",
   "metadata": {},
   "source": [
    "\n",
    " Both composite methods produce identical results.  As we expected!\n",
    "\n",
    " \n",
    "\n",
    "Our composite images still have a transparency layer that we need to get rid of."
   ]
  },
  {
   "cell_type": "code",
   "execution_count": 94,
   "metadata": {},
   "outputs": [
    {
     "name": "stderr",
     "output_type": "stream",
     "text": [
      "/snap/core20/current/lib/x86_64-linux-gnu/libstdc++.so.6: version `GLIBCXX_3.4.29' not found (required by /lib/x86_64-linux-gnu/libproxy.so.1)\n",
      "Failed to load module: /home/lilli/snap/code/common/.cache/gio-modules/libgiolibproxy.so\n",
      "[25962:25962:0100/000000.164647:ERROR:zygote_linux.cc(672)] write: Broken pipe (32)\n"
     ]
    },
    {
     "name": "stdout",
     "output_type": "stream",
     "text": [
      "Opening in existing browser session.\n"
     ]
    }
   ],
   "source": [
    "#Those looked great.\n",
    "#Let's see how they do with the rest of the conversion process.\n",
    "img_bac = Image.open(file_bac).convert('L').rotate(270).save(file_bac, 'jpeg')\n",
    "img_bac = Image.open(file_bac).show()"
   ]
  },
  {
   "cell_type": "markdown",
   "metadata": {},
   "source": [
    "Without the transparency layer, the image is much less smoothed.  There are also some subtle pixel variations in areas I'd expect to be solid white because they are fairly well separated from the icon boundary.  Presumably that's coming from the transparency layer (as used to interpolate between the black and white solid images in our compositing step).  It's a bit weird, but our process is sound and the images look good enough for our purposes.  \n",
    "\n",
    "If I came back to this project in the future, I might investigate this further by: \n",
    "\n",
    "- Checking a few of the off pixels in nowheresville to see what's in the A layer.  If it's non-zero then the pixel should be a shade of gray, even if I think the image creator shouldn't have put it there!\n",
    "- Looking at pillow source code for composite fcns\n",
    "\n",
    "We have our image processing procedure for the black 'LA' images.  (Other than the resizing, which is trivial to add to our final script version later)."
   ]
  },
  {
   "cell_type": "markdown",
   "metadata": {},
   "source": [
    "Before moving on to the white 'LA' images, I want to explore a few more points."
   ]
  },
  {
   "cell_type": "markdown",
   "metadata": {},
   "source": [
    "##### Premultiplied alpha idea\n",
    "\n",
    "Premultiplied alpha masks are 'La' and 'RGBa' modes (lowercase 'a') and are formed from multiplying the RGB values by the (normalized) alpha mask values.  A pixel that is half opaque will have the RGB values halved when it is premultiplied.\n",
    "\n",
    "This made me wonder if that is how to 'incorporate' a transparency mask w/o the alpha layer.  What if I scale the L band by the normalized A band?  Will that give me the correct greyscale color equivalent (w/o transparency)?\n",
    "\n",
    "I started working on this and realized I can't scale the L band for these images, because the pixels are all black (=0).  \n",
    "0 * A = 0.\n",
    "\n",
    "What I actually want to do is scale white by (1 - normalized alpha channel value) -- when alpha is 0, I should see white; when 255, I should see black.\n",
    "\n",
    "Also, I don't actually need to normalize alpha.  Believe it or not, the math just becomes\n",
    "\n",
    "Lnew = 255 - A\n",
    "\n",
    "which, considering that our current L band is all black (0), this should turn out *exactly the same as our composites.*  This is super cool and important to confirm we are understanding something more about this image manipulation!\n",
    "\n",
    "This thought process also made me realize that this is just the so-called 'inverse' of the alpha layer.  There is actually an inverse method in pillow, which would seem to be another simple way to do what we need.\n",
    "\n",
    "Obviously we're going to test these out."
   ]
  },
  {
   "cell_type": "code",
   "execution_count": 104,
   "metadata": {},
   "outputs": [
    {
     "name": "stdout",
     "output_type": "stream",
     "text": [
      "Partial histogram of diff between premultiplied and inverted images:\n",
      "[36864, 0, 0, 0, 0, 0, 0, 0, 0, 0]\n",
      "The processes give the same result!\n",
      "\n",
      "Partial histogram of diff between premultiplied/inverted and composite images:\n",
      "[36864, 0, 0, 0, 0, 0, 0, 0, 0, 0]\n",
      "Identical too.\n"
     ]
    }
   ],
   "source": [
    "#an experiment\n",
    "#create a premult image and an inverse image\n",
    "file_b = '../images/ic_directions_bike_black_48dp'\n",
    "file_bmult = './tmp_bike_bmult'\n",
    "file_binv = './tmp_bike_binv'\n",
    "\n",
    "img = Image.open(file_b)\n",
    "L, alpha = img.split()\n",
    "pix_A = alpha.load()\n",
    "width, height = img.size\n",
    "\n",
    "#there's a more suscinct way to do this\n",
    "#but I'm leaving it -- this is just a test\n",
    "for i in range(width):\n",
    "    for j in range(height):\n",
    "        L.putpixel((i, j), (255 - pix_A[i,j]))\n",
    "img_bmult = L.convert('L').rotate(270).save(file_bmult, 'jpeg')\n",
    "\n",
    "#trying invert method\n",
    "img_binv = ImageOps.invert(alpha)\n",
    "img_binv.rotate(270).save(file_binv, 'jpeg')\n",
    "\n",
    "img_bmult = Image.open(file_bmult)\n",
    "img_binv = Image.open(file_binv)\n",
    "img_bac = Image.open(file_bac) #our composite from before, already rotated & in L mode\n",
    "\n",
    "#is premultiplying equivalent to inverting in this case?\n",
    "print(f'Partial histogram of diff between premultiplied and inverted images:\\n{ImageChops.difference(img_bmult, img_binv).histogram()[0:10]}')\n",
    "#Yes!\n",
    "print('The processes give the same result!\\n')\n",
    "# is premult/invert equiv to our composite method?\n",
    "print(f'Partial histogram of diff between premultiplied/inverted and composite images:\\n{ImageChops.difference(img_bac, img_bmult).histogram()[0:10]}')\n",
    "print('Identical too.')"
   ]
  },
  {
   "cell_type": "markdown",
   "metadata": {},
   "source": [
    "Great!  We understand some things and we've got 4 equivalent ways to convert our black icon 'LA' images.\n",
    "\n",
    "Let's move on to the white 'LA' images.\n"
   ]
  },
  {
   "cell_type": "markdown",
   "metadata": {},
   "source": [
    "\n",
    "#### Converting the White 'LA' Images\n",
    "\n",
    "I'm going to start by looking at the luminosity (L) band and alpha bands separately to get an idea of what is going on with these images."
   ]
  },
  {
   "cell_type": "code",
   "execution_count": 105,
   "metadata": {},
   "outputs": [
    {
     "name": "stdout",
     "output_type": "stream",
     "text": [
      "WHITE ICON\n",
      "Image extrema: ((0, 255), (0, 255))\n",
      "L-band histogram: [25078, 0, 0, 0, 0, 0, 0, 0, 0, 0, 0, 0, 0, 0, 0, 0, 0, 0, 0, 0, 0, 0, 0, 0, 0, 0, 0, 0, 0, 0, 0, 0, 0, 0, 0, 0, 0, 0, 0, 0, 0, 0, 0, 0, 0, 0, 0, 0, 0, 0, 0, 0, 0, 0, 0, 0, 0, 0, 0, 0, 0, 0, 0, 0, 0, 0, 0, 0, 0, 0, 0, 0, 0, 0, 0, 0, 0, 0, 0, 0, 0, 0, 0, 0, 0, 0, 0, 0, 0, 0, 0, 0, 0, 0, 0, 0, 0, 0, 0, 0, 0, 0, 0, 0, 0, 0, 0, 0, 0, 0, 0, 0, 0, 0, 0, 0, 0, 0, 0, 0, 0, 0, 0, 0, 0, 0, 0, 0, 0, 0, 0, 0, 0, 0, 0, 0, 0, 0, 0, 0, 0, 0, 0, 0, 0, 0, 0, 0, 0, 0, 0, 0, 0, 0, 0, 0, 0, 0, 0, 0, 0, 0, 0, 0, 0, 0, 0, 0, 0, 0, 0, 0, 0, 0, 0, 0, 0, 0, 0, 0, 0, 0, 0, 0, 0, 0, 0, 0, 0, 0, 0, 0, 0, 0, 0, 0, 0, 0, 0, 0, 0, 0, 0, 0, 0, 0, 0, 0, 0, 0, 0, 0, 0, 0, 0, 0, 0, 0, 0, 0, 0, 0, 0, 0, 0, 0, 0, 0, 0, 0, 0, 0, 0, 0, 0, 0, 0, 0, 0, 0, 0, 0, 0, 0, 0, 0, 0, 0, 0, 0, 0, 0, 0, 0, 0, 11786]\n",
      "Alpha-band histogram: [25078, 59, 36, 39, 103, 35, 32, 29, 24, 27, 33, 23, 10, 8, 9, 16, 30, 28, 57, 55, 43, 32, 24, 11, 37, 52, 8, 6, 23, 13, 31, 22, 15, 18, 6, 11, 23, 6, 18, 21, 42, 21, 17, 20, 27, 33, 11, 10, 12, 18, 22, 38, 103, 8, 4, 11, 17, 25, 8, 2, 12, 7, 2, 8, 19, 27, 10, 10, 10, 7, 19, 17, 16, 12, 20, 4, 17, 12, 19, 14, 12, 18, 6, 18, 20, 7, 12, 7, 9, 3, 3, 14, 16, 7, 17, 11, 8, 13, 13, 19, 23, 5, 13, 4, 4, 3, 1, 3, 1, 2, 1, 11, 16, 6, 11, 4, 5, 0, 8, 12, 8, 13, 6, 5, 6, 7, 1, 14, 10, 17, 3, 12, 8, 15, 4, 19, 9, 7, 21, 10, 19, 13, 28, 12, 2, 4, 4, 0, 8, 11, 7, 6, 6, 6, 12, 12, 11, 16, 20, 23, 15, 6, 15, 9, 30, 13, 21, 16, 20, 22, 9, 5, 3, 6, 2, 2, 9, 5, 11, 9, 6, 5, 2, 15, 18, 4, 3, 6, 15, 13, 31, 19, 22, 13, 13, 9, 15, 21, 9, 26, 16, 23, 21, 116, 41, 27, 15, 27, 21, 3, 23, 8, 9, 6, 32, 11, 21, 15, 8, 21, 19, 20, 18, 13, 33, 32, 27, 57, 40, 39, 29, 22, 18, 30, 13, 5, 12, 10, 7, 39, 19, 22, 51, 62, 20, 25, 21, 33, 47, 77, 57, 34, 65, 65, 111, 7072]\n"
     ]
    },
    {
     "name": "stderr",
     "output_type": "stream",
     "text": [
      "/snap/core20/current/lib/x86_64-linux-gnu/libstdc++.so.6: version `GLIBCXX_3.4.29' not found (required by /lib/x86_64-linux-gnu/libproxy.so.1)\n",
      "Failed to load module: /home/lilli/snap/code/common/.cache/gio-modules/libgiolibproxy.so\n"
     ]
    },
    {
     "name": "stdout",
     "output_type": "stream",
     "text": [
      "Opening in existing browser session.\n",
      "Opening in existing browser session.\n"
     ]
    },
    {
     "name": "stderr",
     "output_type": "stream",
     "text": [
      "/snap/core20/current/lib/x86_64-linux-gnu/libstdc++.so.6: version `GLIBCXX_3.4.29' not found (required by /lib/x86_64-linux-gnu/libproxy.so.1)\n",
      "Failed to load module: /home/lilli/snap/code/common/.cache/gio-modules/libgiolibproxy.so\n"
     ]
    }
   ],
   "source": [
    "#Let's look at our white icon\n",
    "file_w = '../images/ic_directions_bike_white_48dp'\n",
    "\n",
    "img = Image.open(file_w)\n",
    "L, alpha = img.split()\n",
    "L.show()\n",
    "alpha.show()\n",
    "\n",
    "print('WHITE ICON')\n",
    "print(f'Image extrema: {img.getextrema()}')\n",
    "print(f'L-band histogram: {L.histogram()}')\n",
    "print(f'Alpha-band histogram: {alpha.histogram()}')"
   ]
  },
  {
   "cell_type": "markdown",
   "metadata": {},
   "source": [
    "Ok, so instead of having a solid color L band, these L bands have both black and white pixels.  The L band basically looks like a fatter version of our biker.  Looking at our histograms above, what's happening is that the L and A bands have zeroes for the same pixels, overlap for a lot of the white area, but a portion of the white area in the L band has intermediate values in the A band.  This would be the pixels near the outline of the bike.  They are being made partially transparent in order to create a gradient effect.\n",
    "\n",
    "However, it doesn't really matter that this isn't a flat white L band.  After all the work we did understanding the black 'LA' images, we know how to convert these.\n",
    "\n",
    "I can do an alpha composite, creating a black mask this time.  That it is going to turn out identical to 'A' band by itself. (This is a quirk of the fact that we are blending black/white)."
   ]
  },
  {
   "cell_type": "code",
   "execution_count": 119,
   "metadata": {},
   "outputs": [
    {
     "name": "stdout",
     "output_type": "stream",
     "text": [
      "Partial histogram of diff between alpha composite and alpha images:\n",
      "[36864, 0, 0, 0, 0, 0, 0, 0, 0, 0]\n"
     ]
    }
   ],
   "source": [
    "file_w = '../images/ic_directions_bike_white_48dp'\n",
    "file_wac = './tmp_bike_wac'\n",
    "file_wa = './tmp_bike_wa'\n",
    "\n",
    "#make alpha_composite\n",
    "img = Image.open(file_w).convert('RGBA')\n",
    "black_mask = Image.new(\"RGBA\", img.size, (0, 0, 0))\n",
    "Image.alpha_composite(black_mask, img).convert('L').rotate(270).save(file_wac, 'jpeg')\n",
    "#img = Image.open(file_wac).show()\n",
    "\n",
    "#alpha layer alone\n",
    "img = Image.open(file_w)\n",
    "L, alpha = img.split()\n",
    "alpha.rotate(270).save(file_wa, 'jpeg')\n",
    "\n",
    "img_wac = Image.open(file_wac)\n",
    "img_wa = Image.open(file_wa)\n",
    "\n",
    "#alpha composite identical to the orig alpha layer\n",
    "print(f'Partial histogram of diff between alpha composite and alpha images:\\n{ImageChops.difference(img_wac, img_wa).histogram()[0:10]}')"
   ]
  },
  {
   "cell_type": "markdown",
   "metadata": {},
   "source": [
    "That's it!  Putting these techniques together into one Python program and we'll have our whole set of images modified how we need.  You'll find that file in the scripts directory too."
   ]
  },
  {
   "cell_type": "markdown",
   "metadata": {},
   "source": [
    "### Successfully Modifying a Palette\n",
    "\n",
    "And now for that promised foray into palette manipulation.\n",
    "\n",
    "We are looking at the P-mode images from earlier, with a pixel range from [0, 1].\n",
    "\n",
    "I'll leave the discussion to the code and comments therein."
   ]
  },
  {
   "cell_type": "code",
   "execution_count": null,
   "metadata": {},
   "outputs": [
    {
     "name": "stdout",
     "output_type": "stream",
     "text": [
      "Starting image palette is:\n",
      "[0, 0, 0, 0, 0, 0, 2, 2, 2, 3, 3, 3, 4, 4, 4, 5, 5, 5, 6, 6, 6, 7, 7, 7, 8, 8, 8, 9, 9, 9, 10, 10, 10, 11, 11, 11, 12, 12, 12, 13, 13, 13, 14, 14, 14, 15, 15, 15, 16, 16, 16, 17, 17, 17, 18, 18, 18, 19, 19, 19, 20, 20, 20, 21, 21, 21, 22, 22, 22, 23, 23, 23, 24, 24, 24, 25, 25, 25, 26, 26, 26, 27, 27, 27, 28, 28, 28, 29, 29, 29, 30, 30, 30, 31, 31, 31, 32, 32, 32, 33, 33, 33, 34, 34, 34, 35, 35, 35, 36, 36, 36, 37, 37, 37, 38, 38, 38, 39, 39, 39, 40, 40, 40, 41, 41, 41, 42, 42, 42, 43, 43, 43, 44, 44, 44, 45, 45, 45, 46, 46, 46, 47, 47, 47, 48, 48, 48, 49, 49, 49, 50, 50, 50, 51, 51, 51, 52, 52, 52, 53, 53, 53, 54, 54, 54, 55, 55, 55, 56, 56, 56, 57, 57, 57, 58, 58, 58, 59, 59, 59, 60, 60, 60, 61, 61, 61, 62, 62, 62, 63, 63, 63, 64, 64, 64, 65, 65, 65, 66, 66, 66, 67, 67, 67, 68, 68, 68, 69, 69, 69, 70, 70, 70, 71, 71, 71, 72, 72, 72, 73, 73, 73, 74, 74, 74, 75, 75, 75, 76, 76, 76, 77, 77, 77, 78, 78, 78, 79, 79, 79, 80, 80, 80, 81, 81, 81, 82, 82, 82, 83, 83, 83, 84, 84, 84, 85, 85, 85, 86, 86, 86, 87, 87, 87, 88, 88, 88, 89, 89, 89, 90, 90, 90, 91, 91, 91, 92, 92, 92, 93, 93, 93, 94, 94, 94, 95, 95, 95, 96, 96, 96, 97, 97, 97, 98, 98, 98, 99, 99, 99, 100, 100, 100, 101, 101, 101, 102, 102, 102, 103, 103, 103, 104, 104, 104, 105, 105, 105, 106, 106, 106, 107, 107, 107, 108, 108, 108, 109, 109, 109, 110, 110, 110, 111, 111, 111, 112, 112, 112, 113, 113, 113, 114, 114, 114, 115, 115, 115, 116, 116, 116, 117, 117, 117, 118, 118, 118, 119, 119, 119, 120, 120, 120, 121, 121, 121, 122, 122, 122, 123, 123, 123, 124, 124, 124, 125, 125, 125, 126, 126, 126, 127, 127, 127, 128, 128, 128, 129, 129, 129, 130, 130, 130, 131, 131, 131, 132, 132, 132, 133, 133, 133, 134, 134, 134, 135, 135, 135, 136, 136, 136, 137, 137, 137, 138, 138, 138, 139, 139, 139, 140, 140, 140, 141, 141, 141, 142, 142, 142, 143, 143, 143, 144, 144, 144, 145, 145, 145, 146, 146, 146, 147, 147, 147, 148, 148, 148, 149, 149, 149, 150, 150, 150, 151, 151, 151, 152, 152, 152, 153, 153, 153, 154, 154, 154, 155, 155, 155, 156, 156, 156, 157, 157, 157, 158, 158, 158, 159, 159, 159, 160, 160, 160, 161, 161, 161, 162, 162, 162, 163, 163, 163, 164, 164, 164, 165, 165, 165, 166, 166, 166, 167, 167, 167, 168, 168, 168, 169, 169, 169, 170, 170, 170, 171, 171, 171, 172, 172, 172, 173, 173, 173, 174, 174, 174, 175, 175, 175, 176, 176, 176, 177, 177, 177, 178, 178, 178, 179, 179, 179, 180, 180, 180, 181, 181, 181, 182, 182, 182, 183, 183, 183, 184, 184, 184, 185, 185, 185, 186, 186, 186, 187, 187, 187, 188, 188, 188, 189, 189, 189, 190, 190, 190, 191, 191, 191, 192, 192, 192, 193, 193, 193, 194, 194, 194, 195, 195, 195, 196, 196, 196, 197, 197, 197, 198, 198, 198, 199, 199, 199, 200, 200, 200, 201, 201, 201, 202, 202, 202, 203, 203, 203, 204, 204, 204, 205, 205, 205, 206, 206, 206, 207, 207, 207, 208, 208, 208, 209, 209, 209, 210, 210, 210, 211, 211, 211, 212, 212, 212, 213, 213, 213, 214, 214, 214, 215, 215, 215, 216, 216, 216, 217, 217, 217, 218, 218, 218, 219, 219, 219, 220, 220, 220, 221, 221, 221, 222, 222, 222, 223, 223, 223, 224, 224, 224, 225, 225, 225, 226, 226, 226, 227, 227, 227, 228, 228, 228, 229, 229, 229, 230, 230, 230, 231, 231, 231, 232, 232, 232, 233, 233, 233, 234, 234, 234, 235, 235, 235, 236, 236, 236, 237, 237, 237, 238, 238, 238, 239, 239, 239, 240, 240, 240, 241, 241, 241, 242, 242, 242, 243, 243, 243, 244, 244, 244, 245, 245, 245, 246, 246, 246, 247, 247, 247, 248, 248, 248, 249, 249, 249, 250, 250, 250, 251, 251, 251, 252, 252, 252, 253, 253, 253, 254, 254, 254, 255, 255, 255]\n",
      "My modified image palette is:\n",
      "[255, 255, 255, 0, 0, 0, 2, 2, 2, 3, 3, 3, 4, 4, 4, 5, 5, 5, 6, 6, 6, 7, 7, 7, 8, 8, 8, 9, 9, 9, 10, 10, 10, 11, 11, 11, 12, 12, 12, 13, 13, 13, 14, 14, 14, 15, 15, 15, 16, 16, 16, 17, 17, 17, 18, 18, 18, 19, 19, 19, 20, 20, 20, 21, 21, 21, 22, 22, 22, 23, 23, 23, 24, 24, 24, 25, 25, 25, 26, 26, 26, 27, 27, 27, 28, 28, 28, 29, 29, 29, 30, 30, 30, 31, 31, 31, 32, 32, 32, 33, 33, 33, 34, 34, 34, 35, 35, 35, 36, 36, 36, 37, 37, 37, 38, 38, 38, 39, 39, 39, 40, 40, 40, 41, 41, 41, 42, 42, 42, 43, 43, 43, 44, 44, 44, 45, 45, 45, 46, 46, 46, 47, 47, 47, 48, 48, 48, 49, 49, 49, 50, 50, 50, 51, 51, 51, 52, 52, 52, 53, 53, 53, 54, 54, 54, 55, 55, 55, 56, 56, 56, 57, 57, 57, 58, 58, 58, 59, 59, 59, 60, 60, 60, 61, 61, 61, 62, 62, 62, 63, 63, 63, 64, 64, 64, 65, 65, 65, 66, 66, 66, 67, 67, 67, 68, 68, 68, 69, 69, 69, 70, 70, 70, 71, 71, 71, 72, 72, 72, 73, 73, 73, 74, 74, 74, 75, 75, 75, 76, 76, 76, 77, 77, 77, 78, 78, 78, 79, 79, 79, 80, 80, 80, 81, 81, 81, 82, 82, 82, 83, 83, 83, 84, 84, 84, 85, 85, 85, 86, 86, 86, 87, 87, 87, 88, 88, 88, 89, 89, 89, 90, 90, 90, 91, 91, 91, 92, 92, 92, 93, 93, 93, 94, 94, 94, 95, 95, 95, 96, 96, 96, 97, 97, 97, 98, 98, 98, 99, 99, 99, 100, 100, 100, 101, 101, 101, 102, 102, 102, 103, 103, 103, 104, 104, 104, 105, 105, 105, 106, 106, 106, 107, 107, 107, 108, 108, 108, 109, 109, 109, 110, 110, 110, 111, 111, 111, 112, 112, 112, 113, 113, 113, 114, 114, 114, 115, 115, 115, 116, 116, 116, 117, 117, 117, 118, 118, 118, 119, 119, 119, 120, 120, 120, 121, 121, 121, 122, 122, 122, 123, 123, 123, 124, 124, 124, 125, 125, 125, 126, 126, 126, 127, 127, 127, 128, 128, 128, 129, 129, 129, 130, 130, 130, 131, 131, 131, 132, 132, 132, 133, 133, 133, 134, 134, 134, 135, 135, 135, 136, 136, 136, 137, 137, 137, 138, 138, 138, 139, 139, 139, 140, 140, 140, 141, 141, 141, 142, 142, 142, 143, 143, 143, 144, 144, 144, 145, 145, 145, 146, 146, 146, 147, 147, 147, 148, 148, 148, 149, 149, 149, 150, 150, 150, 151, 151, 151, 152, 152, 152, 153, 153, 153, 154, 154, 154, 155, 155, 155, 156, 156, 156, 157, 157, 157, 158, 158, 158, 159, 159, 159, 160, 160, 160, 161, 161, 161, 162, 162, 162, 163, 163, 163, 164, 164, 164, 165, 165, 165, 166, 166, 166, 167, 167, 167, 168, 168, 168, 169, 169, 169, 170, 170, 170, 171, 171, 171, 172, 172, 172, 173, 173, 173, 174, 174, 174, 175, 175, 175, 176, 176, 176, 177, 177, 177, 178, 178, 178, 179, 179, 179, 180, 180, 180, 181, 181, 181, 182, 182, 182, 183, 183, 183, 184, 184, 184, 185, 185, 185, 186, 186, 186, 187, 187, 187, 188, 188, 188, 189, 189, 189, 190, 190, 190, 191, 191, 191, 192, 192, 192, 193, 193, 193, 194, 194, 194, 195, 195, 195, 196, 196, 196, 197, 197, 197, 198, 198, 198, 199, 199, 199, 200, 200, 200, 201, 201, 201, 202, 202, 202, 203, 203, 203, 204, 204, 204, 205, 205, 205, 206, 206, 206, 207, 207, 207, 208, 208, 208, 209, 209, 209, 210, 210, 210, 211, 211, 211, 212, 212, 212, 213, 213, 213, 214, 214, 214, 215, 215, 215, 216, 216, 216, 217, 217, 217, 218, 218, 218, 219, 219, 219, 220, 220, 220, 221, 221, 221, 222, 222, 222, 223, 223, 223, 224, 224, 224, 225, 225, 225, 226, 226, 226, 227, 227, 227, 228, 228, 228, 229, 229, 229, 230, 230, 230, 231, 231, 231, 232, 232, 232, 233, 233, 233, 234, 234, 234, 235, 235, 235, 236, 236, 236, 237, 237, 237, 238, 238, 238, 239, 239, 239, 240, 240, 240, 241, 241, 241, 242, 242, 242, 243, 243, 243, 244, 244, 244, 245, 245, 245, 246, 246, 246, 247, 247, 247, 248, 248, 248, 249, 249, 249, 250, 250, 250, 251, 251, 251, 252, 252, 252, 253, 253, 253, 254, 254, 254, 255, 255, 255]\n",
      "Image mode: L\n",
      "Image extrema: (0, 255)\n"
     ]
    },
    {
     "name": "stdout",
     "output_type": "stream",
     "text": [
      "Opening in existing browser session.\n"
     ]
    },
    {
     "name": "stderr",
     "output_type": "stream",
     "text": [
      "/snap/core20/current/lib/x86_64-linux-gnu/libstdc++.so.6: version `GLIBCXX_3.4.29' not found (required by /lib/x86_64-linux-gnu/libproxy.so.1)\n",
      "Failed to load module: /home/lilli/snap/code/common/.cache/gio-modules/libgiolibproxy.so\n",
      "[24308:24308:0100/000000.532410:ERROR:zygote_linux.cc(672)] write: Broken pipe (32)\n"
     ]
    }
   ],
   "source": [
    "#Addendum\n",
    "#Correct the palette for these bogus P images\n",
    "file = '../images/ic_local_movies_black_48dp'\n",
    "temp_file = './temp_movies_black'\n",
    "\n",
    "img = Image.open(file)\n",
    "img_pal = img.getpalette()\n",
    "print(f\"Starting image palette is:\\n{img_pal}\")\n",
    "\n",
    "#After noticing that changing the 0th and 1st items in the palette list \n",
    "#produced red/gray background image, depending on what mode I converted to,\n",
    "#and noticing the palette was 3*256 in length,\n",
    "#I surmised I needed to do the following\n",
    "#(it's a flattened, RGB-style array):\n",
    "for i in range(0, 3):\n",
    "    img_pal[i] = 255\n",
    "for i in range(3, 6):\n",
    "    img_pal[i] = 0\n",
    "img.putpalette(img_pal)\n",
    "img_pal = img.getpalette()\n",
    "print(f\"My modified image palette is:\\n{img_pal}\")\n",
    "\n",
    "\n",
    "img = img.convert('L').rotate(270).save(temp_file, 'jpeg')\n",
    "img = Image.open(temp_file)\n",
    "print(f'Image mode: {img.mode}')\n",
    "print(f'Image extrema: {img.getextrema()}')\n",
    "img = Image.open(temp_file).show()\n",
    "\n",
    "#voila!"
   ]
  },
  {
   "cell_type": "code",
   "execution_count": 122,
   "metadata": {},
   "outputs": [
    {
     "name": "stdout",
     "output_type": "stream",
     "text": [
      "/home/lilli/Dropbox/python-lilli-lib/pillow/pil-capstone-google-it-cert-2023/pillow-it-cert-capstone/images/ic_local_printshop_black_48dp\n",
      "/home/lilli/Dropbox/python-lilli-lib/pillow/pil-capstone-google-it-cert-2023/pillow-it-cert-capstone/images/ic_local_offer_black_48dp\n",
      "/home/lilli/Dropbox/python-lilli-lib/pillow/pil-capstone-google-it-cert-2023/pillow-it-cert-capstone/images/ic_local_see_black_48dp\n",
      "/home/lilli/Dropbox/python-lilli-lib/pillow/pil-capstone-google-it-cert-2023/pillow-it-cert-capstone/images/ic_local_atm_black_48dp\n",
      "/home/lilli/Dropbox/python-lilli-lib/pillow/pil-capstone-google-it-cert-2023/pillow-it-cert-capstone/images/ic_my_location_white_48dp\n",
      "/home/lilli/Dropbox/python-lilli-lib/pillow/pil-capstone-google-it-cert-2023/pillow-it-cert-capstone/images/ic_directions_railway_black_48dp\n",
      "/home/lilli/Dropbox/python-lilli-lib/pillow/pil-capstone-google-it-cert-2023/pillow-it-cert-capstone/images/ic_local_library_white_48dp\n",
      "/home/lilli/Dropbox/python-lilli-lib/pillow/pil-capstone-google-it-cert-2023/pillow-it-cert-capstone/images/ic_local_convenience_store_white_48dp\n",
      "/home/lilli/Dropbox/python-lilli-lib/pillow/pil-capstone-google-it-cert-2023/pillow-it-cert-capstone/images/ic_map_black_48dp\n",
      "/home/lilli/Dropbox/python-lilli-lib/pillow/pil-capstone-google-it-cert-2023/pillow-it-cert-capstone/images/ic_local_bar_black_48dp\n",
      "/home/lilli/Dropbox/python-lilli-lib/pillow/pil-capstone-google-it-cert-2023/pillow-it-cert-capstone/images/ic_layers_clear_white_48dp\n",
      "/home/lilli/Dropbox/python-lilli-lib/pillow/pil-capstone-google-it-cert-2023/pillow-it-cert-capstone/images/ic_local_pharmacy_white_48dp\n",
      "/home/lilli/Dropbox/python-lilli-lib/pillow/pil-capstone-google-it-cert-2023/pillow-it-cert-capstone/images/ic_local_car_wash_black_48dp\n",
      "/home/lilli/Dropbox/python-lilli-lib/pillow/pil-capstone-google-it-cert-2023/pillow-it-cert-capstone/images/ic_hotel_black_48dp\n",
      "/home/lilli/Dropbox/python-lilli-lib/pillow/pil-capstone-google-it-cert-2023/pillow-it-cert-capstone/images/ic_layers_white_48dp\n",
      "/home/lilli/Dropbox/python-lilli-lib/pillow/pil-capstone-google-it-cert-2023/pillow-it-cert-capstone/images/ic_local_shipping_black_48dp\n",
      "/home/lilli/Dropbox/python-lilli-lib/pillow/pil-capstone-google-it-cert-2023/pillow-it-cert-capstone/images/ic_local_play_black_48dp\n",
      "/home/lilli/Dropbox/python-lilli-lib/pillow/pil-capstone-google-it-cert-2023/pillow-it-cert-capstone/images/ic_local_taxi_black_48dp\n",
      "/home/lilli/Dropbox/python-lilli-lib/pillow/pil-capstone-google-it-cert-2023/pillow-it-cert-capstone/images/ic_local_car_wash_white_48dp\n",
      "/home/lilli/Dropbox/python-lilli-lib/pillow/pil-capstone-google-it-cert-2023/pillow-it-cert-capstone/images/ic_edit_location_white_48dp\n",
      "/home/lilli/Dropbox/python-lilli-lib/pillow/pil-capstone-google-it-cert-2023/pillow-it-cert-capstone/images/ic_directions_bus_black_48dp\n",
      "/home/lilli/Dropbox/python-lilli-lib/pillow/pil-capstone-google-it-cert-2023/pillow-it-cert-capstone/images/ic_directions_black_48dp\n",
      "/home/lilli/Dropbox/python-lilli-lib/pillow/pil-capstone-google-it-cert-2023/pillow-it-cert-capstone/images/ic_local_post_office_white_48dp\n",
      "/home/lilli/Dropbox/python-lilli-lib/pillow/pil-capstone-google-it-cert-2023/pillow-it-cert-capstone/images/ic_local_pizza_white_48dp\n",
      "/home/lilli/Dropbox/python-lilli-lib/pillow/pil-capstone-google-it-cert-2023/pillow-it-cert-capstone/images/ic_add_location_white_48dp\n",
      "/home/lilli/Dropbox/python-lilli-lib/pillow/pil-capstone-google-it-cert-2023/pillow-it-cert-capstone/images/ic_local_pharmacy_black_48dp\n",
      "/home/lilli/Dropbox/python-lilli-lib/pillow/pil-capstone-google-it-cert-2023/pillow-it-cert-capstone/images/ic_local_laundry_service_black_48dp\n",
      "/home/lilli/Dropbox/python-lilli-lib/pillow/pil-capstone-google-it-cert-2023/pillow-it-cert-capstone/images/ic_local_atm_white_48dp\n",
      "/home/lilli/Dropbox/python-lilli-lib/pillow/pil-capstone-google-it-cert-2023/pillow-it-cert-capstone/images/ic_local_hotel_black_48dp\n",
      "/home/lilli/Dropbox/python-lilli-lib/pillow/pil-capstone-google-it-cert-2023/pillow-it-cert-capstone/images/ic_directions_run_white_48dp\n",
      "/home/lilli/Dropbox/python-lilli-lib/pillow/pil-capstone-google-it-cert-2023/pillow-it-cert-capstone/images/ic_hotel_white_48dp\n",
      "/home/lilli/Dropbox/python-lilli-lib/pillow/pil-capstone-google-it-cert-2023/pillow-it-cert-capstone/images/ic_directions_transit_white_48dp\n",
      "/home/lilli/Dropbox/python-lilli-lib/pillow/pil-capstone-google-it-cert-2023/pillow-it-cert-capstone/images/ic_directions_car_black_48dp\n",
      "/home/lilli/Dropbox/python-lilli-lib/pillow/pil-capstone-google-it-cert-2023/pillow-it-cert-capstone/images/ic_local_taxi_white_48dp\n",
      "/home/lilli/Dropbox/python-lilli-lib/pillow/pil-capstone-google-it-cert-2023/pillow-it-cert-capstone/images/ic_local_play_white_48dp\n",
      "/home/lilli/Dropbox/python-lilli-lib/pillow/pil-capstone-google-it-cert-2023/pillow-it-cert-capstone/images/ic_layers_clear_black_48dp\n",
      "/home/lilli/Dropbox/python-lilli-lib/pillow/pil-capstone-google-it-cert-2023/pillow-it-cert-capstone/images/ic_beenhere_white_48dp\n",
      "/home/lilli/Dropbox/python-lilli-lib/pillow/pil-capstone-google-it-cert-2023/pillow-it-cert-capstone/images/ic_add_location_black_48dp\n",
      "/home/lilli/Dropbox/python-lilli-lib/pillow/pil-capstone-google-it-cert-2023/pillow-it-cert-capstone/images/ic_local_laundry_service_white_48dp\n",
      "/home/lilli/Dropbox/python-lilli-lib/pillow/pil-capstone-google-it-cert-2023/pillow-it-cert-capstone/images/ic_navigation_black_48dp\n",
      "/home/lilli/Dropbox/python-lilli-lib/pillow/pil-capstone-google-it-cert-2023/pillow-it-cert-capstone/images/ic_local_grocery_store_black_48dp\n",
      "/home/lilli/Dropbox/python-lilli-lib/pillow/pil-capstone-google-it-cert-2023/pillow-it-cert-capstone/images/ic_my_location_black_48dp\n",
      "/home/lilli/Dropbox/python-lilli-lib/pillow/pil-capstone-google-it-cert-2023/pillow-it-cert-capstone/images/ic_ev_station_black_48dp\n",
      "/home/lilli/Dropbox/python-lilli-lib/pillow/pil-capstone-google-it-cert-2023/pillow-it-cert-capstone/images/ic_directions_car_white_48dp\n",
      "/home/lilli/Dropbox/python-lilli-lib/pillow/pil-capstone-google-it-cert-2023/pillow-it-cert-capstone/images/ic_local_gas_station_white_48dp\n",
      "/home/lilli/Dropbox/python-lilli-lib/pillow/pil-capstone-google-it-cert-2023/pillow-it-cert-capstone/images/ic_local_movies_black_48dp\n",
      "/home/lilli/Dropbox/python-lilli-lib/pillow/pil-capstone-google-it-cert-2023/pillow-it-cert-capstone/images/ic_directions_bike_white_48dp\n",
      "/home/lilli/Dropbox/python-lilli-lib/pillow/pil-capstone-google-it-cert-2023/pillow-it-cert-capstone/images/ic_local_bar_white_48dp\n",
      "/home/lilli/Dropbox/python-lilli-lib/pillow/pil-capstone-google-it-cert-2023/pillow-it-cert-capstone/images/ic_local_activity_white_48dp\n",
      "/home/lilli/Dropbox/python-lilli-lib/pillow/pil-capstone-google-it-cert-2023/pillow-it-cert-capstone/images/ic_local_printshop_white_48dp\n",
      "/home/lilli/Dropbox/python-lilli-lib/pillow/pil-capstone-google-it-cert-2023/pillow-it-cert-capstone/images/ic_local_cafe_black_48dp\n",
      "/home/lilli/Dropbox/python-lilli-lib/pillow/pil-capstone-google-it-cert-2023/pillow-it-cert-capstone/images/ic_local_library_black_48dp\n",
      "/home/lilli/Dropbox/python-lilli-lib/pillow/pil-capstone-google-it-cert-2023/pillow-it-cert-capstone/images/ic_local_post_office_black_48dp\n",
      "/home/lilli/Dropbox/python-lilli-lib/pillow/pil-capstone-google-it-cert-2023/pillow-it-cert-capstone/images/ic_directions_white_48dp\n",
      "/home/lilli/Dropbox/python-lilli-lib/pillow/pil-capstone-google-it-cert-2023/pillow-it-cert-capstone/images/ic_local_drink_white_48dp\n",
      "/home/lilli/Dropbox/python-lilli-lib/pillow/pil-capstone-google-it-cert-2023/pillow-it-cert-capstone/images/ic_local_florist_black_48dp\n",
      "/home/lilli/Dropbox/python-lilli-lib/pillow/pil-capstone-google-it-cert-2023/pillow-it-cert-capstone/images/ic_local_offer_white_48dp\n",
      "/home/lilli/Dropbox/python-lilli-lib/pillow/pil-capstone-google-it-cert-2023/pillow-it-cert-capstone/images/ic_map_white_48dp\n",
      "/home/lilli/Dropbox/python-lilli-lib/pillow/pil-capstone-google-it-cert-2023/pillow-it-cert-capstone/images/ic_local_shipping_white_48dp\n",
      "/home/lilli/Dropbox/python-lilli-lib/pillow/pil-capstone-google-it-cert-2023/pillow-it-cert-capstone/images/ic_local_drink_black_48dp\n",
      "/home/lilli/Dropbox/python-lilli-lib/pillow/pil-capstone-google-it-cert-2023/pillow-it-cert-capstone/images/ic_layers_black_48dp\n",
      "/home/lilli/Dropbox/python-lilli-lib/pillow/pil-capstone-google-it-cert-2023/pillow-it-cert-capstone/images/ic_directions_boat_white_48dp\n",
      "/home/lilli/Dropbox/python-lilli-lib/pillow/pil-capstone-google-it-cert-2023/pillow-it-cert-capstone/images/ic_flight_white_48dp\n",
      "/home/lilli/Dropbox/python-lilli-lib/pillow/pil-capstone-google-it-cert-2023/pillow-it-cert-capstone/images/ic_local_dining_white_48dp\n",
      "/home/lilli/Dropbox/python-lilli-lib/pillow/pil-capstone-google-it-cert-2023/pillow-it-cert-capstone/images/ic_local_grocery_store_white_48dp\n",
      "/home/lilli/Dropbox/python-lilli-lib/pillow/pil-capstone-google-it-cert-2023/pillow-it-cert-capstone/images/ic_local_airport_black_48dp\n",
      "/home/lilli/Dropbox/python-lilli-lib/pillow/pil-capstone-google-it-cert-2023/pillow-it-cert-capstone/images/ic_local_cafe_white_48dp\n",
      "/home/lilli/Dropbox/python-lilli-lib/pillow/pil-capstone-google-it-cert-2023/pillow-it-cert-capstone/images/ic_local_see_white_48dp\n",
      "/home/lilli/Dropbox/python-lilli-lib/pillow/pil-capstone-google-it-cert-2023/pillow-it-cert-capstone/images/ic_directions_run_black_48dp\n",
      "/home/lilli/Dropbox/python-lilli-lib/pillow/pil-capstone-google-it-cert-2023/pillow-it-cert-capstone/images/ic_local_mall_black_48dp\n",
      "/home/lilli/Dropbox/python-lilli-lib/pillow/pil-capstone-google-it-cert-2023/pillow-it-cert-capstone/images/ic_directions_transit_black_48dp\n",
      "/home/lilli/Dropbox/python-lilli-lib/pillow/pil-capstone-google-it-cert-2023/pillow-it-cert-capstone/images/ic_ev_station_white_48dp\n",
      "/home/lilli/Dropbox/python-lilli-lib/pillow/pil-capstone-google-it-cert-2023/pillow-it-cert-capstone/images/ic_local_movies_white_48dp\n",
      "/home/lilli/Dropbox/python-lilli-lib/pillow/pil-capstone-google-it-cert-2023/pillow-it-cert-capstone/images/ic_directions_bike_black_48dp\n",
      "/home/lilli/Dropbox/python-lilli-lib/pillow/pil-capstone-google-it-cert-2023/pillow-it-cert-capstone/images/ic_local_phone_white_48dp\n",
      "/home/lilli/Dropbox/python-lilli-lib/pillow/pil-capstone-google-it-cert-2023/pillow-it-cert-capstone/images/ic_directions_boat_black_48dp\n",
      "/home/lilli/Dropbox/python-lilli-lib/pillow/pil-capstone-google-it-cert-2023/pillow-it-cert-capstone/images/ic_beenhere_black_48dp\n",
      "/home/lilli/Dropbox/python-lilli-lib/pillow/pil-capstone-google-it-cert-2023/pillow-it-cert-capstone/images/ic_local_convenience_store_black_48dp\n",
      "/home/lilli/Dropbox/python-lilli-lib/pillow/pil-capstone-google-it-cert-2023/pillow-it-cert-capstone/images/ic_directions_subway_white_48dp\n",
      "/home/lilli/Dropbox/python-lilli-lib/pillow/pil-capstone-google-it-cert-2023/pillow-it-cert-capstone/images/ic_local_mall_white_48dp\n",
      "/home/lilli/Dropbox/python-lilli-lib/pillow/pil-capstone-google-it-cert-2023/pillow-it-cert-capstone/images/ic_local_hospital_white_48dp\n",
      "/home/lilli/Dropbox/python-lilli-lib/pillow/pil-capstone-google-it-cert-2023/pillow-it-cert-capstone/images/ic_local_gas_station_black_48dp\n",
      "/home/lilli/Dropbox/python-lilli-lib/pillow/pil-capstone-google-it-cert-2023/pillow-it-cert-capstone/images/ic_local_hospital_black_48dp\n",
      "/home/lilli/Dropbox/python-lilli-lib/pillow/pil-capstone-google-it-cert-2023/pillow-it-cert-capstone/images/ic_edit_location_black_48dp\n",
      "/home/lilli/Dropbox/python-lilli-lib/pillow/pil-capstone-google-it-cert-2023/pillow-it-cert-capstone/images/ic_local_phone_black_48dp\n",
      "/home/lilli/Dropbox/python-lilli-lib/pillow/pil-capstone-google-it-cert-2023/pillow-it-cert-capstone/images/ic_directions_subway_black_48dp\n",
      "/home/lilli/Dropbox/python-lilli-lib/pillow/pil-capstone-google-it-cert-2023/pillow-it-cert-capstone/images/ic_near_me_black_48dp\n",
      "/home/lilli/Dropbox/python-lilli-lib/pillow/pil-capstone-google-it-cert-2023/pillow-it-cert-capstone/images/ic_local_airport_white_48dp\n",
      "/home/lilli/Dropbox/python-lilli-lib/pillow/pil-capstone-google-it-cert-2023/pillow-it-cert-capstone/images/ic_local_activity_black_48dp\n",
      "/home/lilli/Dropbox/python-lilli-lib/pillow/pil-capstone-google-it-cert-2023/pillow-it-cert-capstone/images/ic_directions_bus_white_48dp\n",
      "/home/lilli/Dropbox/python-lilli-lib/pillow/pil-capstone-google-it-cert-2023/pillow-it-cert-capstone/images/ic_local_florist_white_48dp\n",
      "/home/lilli/Dropbox/python-lilli-lib/pillow/pil-capstone-google-it-cert-2023/pillow-it-cert-capstone/images/ic_flight_black_48dp\n",
      "/home/lilli/Dropbox/python-lilli-lib/pillow/pil-capstone-google-it-cert-2023/pillow-it-cert-capstone/images/ic_local_pizza_black_48dp\n",
      "/home/lilli/Dropbox/python-lilli-lib/pillow/pil-capstone-google-it-cert-2023/pillow-it-cert-capstone/images/ic_local_dining_black_48dp\n",
      "/home/lilli/Dropbox/python-lilli-lib/pillow/pil-capstone-google-it-cert-2023/pillow-it-cert-capstone/images/ic_directions_railway_white_48dp\n",
      "/home/lilli/Dropbox/python-lilli-lib/pillow/pil-capstone-google-it-cert-2023/pillow-it-cert-capstone/images/ic_local_hotel_white_48dp\n",
      "/home/lilli/Dropbox/python-lilli-lib/pillow/pil-capstone-google-it-cert-2023/pillow-it-cert-capstone/images/ic_navigation_white_48dp\n",
      "/home/lilli/Dropbox/python-lilli-lib/pillow/pil-capstone-google-it-cert-2023/pillow-it-cert-capstone/images/ic_local_parking_white_48dp\n",
      "/home/lilli/Dropbox/python-lilli-lib/pillow/pil-capstone-google-it-cert-2023/pillow-it-cert-capstone/images/ic_directions_walk_white_48dp\n",
      "/home/lilli/Dropbox/python-lilli-lib/pillow/pil-capstone-google-it-cert-2023/pillow-it-cert-capstone/images/ic_directions_walk_black_48dp\n"
     ]
    }
   ],
   "source": [
    "import pathlib\n",
    "in_dir = '../images/'\n",
    "out_dir = '../processed/'\n",
    "pattern = 'ic*dp'\n",
    "size = (128, 128)\n",
    "flagged = []\n",
    "count = 0\n",
    "\n",
    "#make output dir if does not exist\n",
    "pathlib.Path(out_dir).mkdir(parents=True, exist_ok=True)\n",
    "\n",
    "file_list = [path.abspath(x) for x in glob(in_dir + pattern)]\n",
    "for file in file_list:\n",
    "    print(file)"
   ]
  },
  {
   "cell_type": "code",
   "execution_count": null,
   "metadata": {},
   "outputs": [],
   "source": []
  }
 ],
 "metadata": {
  "kernelspec": {
   "display_name": "Python 3",
   "language": "python",
   "name": "python3"
  },
  "language_info": {
   "codemirror_mode": {
    "name": "ipython",
    "version": 3
   },
   "file_extension": ".py",
   "mimetype": "text/x-python",
   "name": "python",
   "nbconvert_exporter": "python",
   "pygments_lexer": "ipython3",
   "version": "3.10.12"
  }
 },
 "nbformat": 4,
 "nbformat_minor": 2
}
